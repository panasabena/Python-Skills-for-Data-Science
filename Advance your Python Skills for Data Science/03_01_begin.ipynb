{
 "cells": [
  {
   "cell_type": "markdown",
   "metadata": {},
   "source": [
    "# Chapter 3 - Regressoin Models\n",
    "## Segment 1 - Simple linear regression"
   ]
  },
  {
   "cell_type": "code",
   "execution_count": 1,
   "metadata": {},
   "outputs": [],
   "source": [
    "import pandas as pd\n",
    "import numpy as np\n",
    "import matplotlib.pyplot as plt\n",
    "from pylab import rcParams\n",
    "from sklearn.linear_model import LinearRegression\n",
    "from sklearn.preprocessing import scale"
   ]
  },
  {
   "cell_type": "code",
   "execution_count": 2,
   "metadata": {},
   "outputs": [],
   "source": [
    "## Configuramos el tamaño de los gráficos\n",
    "%matplotlib inline\n",
    "rcParams['figure.figsize']=10,8"
   ]
  },
  {
   "cell_type": "markdown",
   "metadata": {},
   "source": [
    "## Regresión lineal\n",
    "[Video explicativo de la teoría de regresión lineal](https://www.youtube.com/watch?v=SsFBnvkoZa4)\n",
    "\n",
    "En estadística, la regresión lineal o ajuste lineal es un modelo matemático usado para aproximar la relación de dependencia entre una variable dependiente ${\\displaystyle Y}$, ${\\displaystyle m}$ variables independientes ${\\displaystyle X_{i}}$ con ${\\displaystyle m\\in \\mathbb {Z} ^{+}}{\\displaystyle m\\in \\mathbb {Z} ^{+}}$ y un término aleatorio ${\\displaystyle \\varepsilon }$ . Este método es aplicable en muchas situaciones en las que se estudia la relación entre dos o más variables o predecir un comportamiento, algunas incluso sin relación con la tecnología. En caso de que no se pueda aplicar un modelo de regresión a un estudio, se dice que no hay correlación entre las variables estudiadas. Este modelo puede ser expresado como:\n",
    "\n",
    "$Y = \\beta _{0} + \\beta_{1}X_{1} +...+ \\beta_{m}X_{m} + {\\displaystyle \\varepsilon }\n",
    "$\n",
    "\n",
    "* Y es la variable dependiente o variable de respuesta.\n",
    "* ${\\displaystyle X_{1},X_{2},\\dots ,X_{m}}$ son las variables explicativas, independientes o regresoras.\n",
    "* ${\\displaystyle \\beta _{0},\\beta _{1},\\beta _{2},\\dots ,\\beta _{m}}$ son los parámetros del modelo, miden la influencia que las variables explicativas tienen sobre el regrediendo.\n",
    "\n",
    "El término ${\\displaystyle \\beta _{0}}$ es la intersección o término \"constante\", las ${\\displaystyle \\beta _{i}\\ (i\\geq 1)}$ son los parámetros respectivos a cada variable independiente, y ${\\displaystyle m}$ es el número de parámetros independientes a tener en cuenta en la regresión. La regresión lineal puede ser contrastada con la regresión no lineal."
   ]
  },
  {
   "cell_type": "code",
   "execution_count": 4,
   "metadata": {},
   "outputs": [
    {
     "data": {
      "text/plain": [
       "array([[4.84003638],\n",
       "       [3.62077918],\n",
       "       [3.15386341],\n",
       "       [3.06912175],\n",
       "       [3.45891029],\n",
       "       [3.96000866],\n",
       "       [4.60272966],\n",
       "       [3.795839  ],\n",
       "       [4.5308939 ]])"
      ]
     },
     "execution_count": 4,
     "metadata": {},
     "output_type": "execute_result"
    }
   ],
   "source": [
    "## Creamos una variable de 100 números aleatorios\n",
    "rooms = 2*np.random.rand(100, 1)+3\n",
    "## Mostramos los primeros 10 valores\n",
    "rooms[1:10]"
   ]
  },
  {
   "cell_type": "code",
   "execution_count": 5,
   "metadata": {},
   "outputs": [
    {
     "data": {
      "text/plain": [
       "array([[294.47763359],\n",
       "       [288.93178955],\n",
       "       [284.37912806],\n",
       "       [284.69002253],\n",
       "       [286.47425659],\n",
       "       [288.77324126],\n",
       "       [294.18047048],\n",
       "       [289.79177002],\n",
       "       [292.41330568]])"
      ]
     },
     "execution_count": 5,
     "metadata": {},
     "output_type": "execute_result"
    }
   ],
   "source": [
    "price = 265 + 6*rooms + abs(np.random.randn(100,1))\n",
    "price[1:10]"
   ]
  },
  {
   "cell_type": "code",
   "execution_count": 7,
   "metadata": {},
   "outputs": [
    {
     "data": {
      "text/plain": [
       "Text(0, 0.5, '2019 Average Home, 1000s USD')"
      ]
     },
     "execution_count": 7,
     "metadata": {},
     "output_type": "execute_result"
    },
    {
     "data": {
      "image/png": "[encoded data removed]",
      "text/plain": [
       "<Figure size 720x576 with 1 Axes>"
      ]
     },
     "metadata": {
      "needs_background": "light"
     },
     "output_type": "display_data"
    }
   ],
   "source": [
    "plt.plot(rooms, price, 'r^')\n",
    "plt.xlabel('# of Rooms, 2019 Average')\n",
    "plt.ylabel('2019 Average Home, 1000s USD')"
   ]
  },
  {
   "cell_type": "code",
   "execution_count": 8,
   "metadata": {},
   "outputs": [
    {
     "name": "stdout",
     "output_type": "stream",
     "text": [
      "[265.79017101] [[6.01828269]]\n"
     ]
    }
   ],
   "source": [
    "X = rooms\n",
    "y = price\n",
    "LinReg = LinearRegression()\n",
    "LinReg.fit(X,y)\n",
    "print(LinReg.intercept_, LinReg.coef_)"
   ]
  },
  {
   "cell_type": "markdown",
   "metadata": {},
   "source": [
    "*Simple Algebra*\n",
    "- y = mx + b\n",
    "- b = intercept = 265.7\n",
    "\n",
    "*Estimated Coefficients*\n",
    "- LinReg.coef_ = [6.01] Estimated coefficients for the terms in the linear regression problem."
   ]
  },
  {
   "cell_type": "code",
   "execution_count": 9,
   "metadata": {},
   "outputs": [
    {
     "name": "stdout",
     "output_type": "stream",
     "text": [
      "0.9772211251155537\n"
     ]
    }
   ],
   "source": [
    "print(LinReg.score(X,y))"
   ]
  },
  {
   "cell_type": "code",
   "execution_count": null,
   "metadata": {},
   "outputs": [],
   "source": []
  }
 ],
 "metadata": {
  "kernelspec": {
   "display_name": "Python 3",
   "language": "python",
   "name": "python3"
  },
  "language_info": {
   "codemirror_mode": {
    "name": "ipython",
    "version": 3
   },
   "file_extension": ".py",
   "mimetype": "text/x-python",
   "name": "python",
   "nbconvert_exporter": "python",
   "pygments_lexer": "ipython3",
   "version": "3.8.8"
  },
  "nav_menu": {
   "height": "279px",
   "width": "309px"
  },
  "toc": {
   "navigate_menu": true,
   "number_sections": true,
   "sideBar": true,
   "threshold": 6,
   "toc_cell": false,
   "toc_section_display": "block",
   "toc_window_display": false
  }
 },
 "nbformat": 4,
 "nbformat_minor": 1
}
